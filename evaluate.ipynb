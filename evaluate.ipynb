{
 "cells": [
  {
   "cell_type": "code",
   "execution_count": 2,
   "metadata": {},
   "outputs": [],
   "source": [
    "import numpy as np\n",
    "import pandas as pd\n",
    "import matplotlib.pyplot as plt\n",
    "import seaborn as sns"
   ]
  },
  {
   "cell_type": "markdown",
   "metadata": {},
   "source": [
    "# 1. load your zillow dataset"
   ]
  },
  {
   "cell_type": "code",
   "execution_count": 3,
   "metadata": {},
   "outputs": [],
   "source": [
    "train, validate, test = pd.read_csv('train.csv', index_col=0), pd.read_csv('validate.csv', index_col=0), pd.read_csv('test.csv', index_col=0)\n"
   ]
  },
  {
   "cell_type": "markdown",
   "metadata": {},
   "source": [
    "# 2. Fit a linear regression model (ordinary least squares) and compute yhat, predictions of taxvaluedollarcnt using only calculatedfinishedsqft"
   ]
  },
  {
   "cell_type": "code",
   "execution_count": 4,
   "metadata": {},
   "outputs": [
    {
     "data": {
      "text/html": [
       "<div>\n",
       "<style scoped>\n",
       "    .dataframe tbody tr th:only-of-type {\n",
       "        vertical-align: middle;\n",
       "    }\n",
       "\n",
       "    .dataframe tbody tr th {\n",
       "        vertical-align: top;\n",
       "    }\n",
       "\n",
       "    .dataframe thead th {\n",
       "        text-align: right;\n",
       "    }\n",
       "</style>\n",
       "<table border=\"1\" class=\"dataframe\">\n",
       "  <thead>\n",
       "    <tr style=\"text-align: right;\">\n",
       "      <th></th>\n",
       "      <th>bedrooms</th>\n",
       "      <th>bathrooms</th>\n",
       "      <th>area</th>\n",
       "      <th>tax_value</th>\n",
       "      <th>year_built</th>\n",
       "      <th>taxamount</th>\n",
       "      <th>fips</th>\n",
       "    </tr>\n",
       "  </thead>\n",
       "  <tbody>\n",
       "    <tr>\n",
       "      <th>10057</th>\n",
       "      <td>4.0</td>\n",
       "      <td>2.0</td>\n",
       "      <td>1561.0</td>\n",
       "      <td>248240.0</td>\n",
       "      <td>1973.0</td>\n",
       "      <td>2504.40</td>\n",
       "      <td>6059.0</td>\n",
       "    </tr>\n",
       "    <tr>\n",
       "      <th>2004970</th>\n",
       "      <td>3.0</td>\n",
       "      <td>2.0</td>\n",
       "      <td>1770.0</td>\n",
       "      <td>88390.0</td>\n",
       "      <td>1960.0</td>\n",
       "      <td>1671.93</td>\n",
       "      <td>6037.0</td>\n",
       "    </tr>\n",
       "  </tbody>\n",
       "</table>\n",
       "</div>"
      ],
      "text/plain": [
       "         bedrooms  bathrooms    area  tax_value  year_built  taxamount    fips\n",
       "10057         4.0        2.0  1561.0   248240.0      1973.0    2504.40  6059.0\n",
       "2004970       3.0        2.0  1770.0    88390.0      1960.0    1671.93  6037.0"
      ]
     },
     "execution_count": 4,
     "metadata": {},
     "output_type": "execute_result"
    }
   ],
   "source": [
    "train.head(2)"
   ]
  },
  {
   "cell_type": "code",
   "execution_count": 4,
   "metadata": {},
   "outputs": [
    {
     "data": {
      "text/plain": [
       "327962.9287565727"
      ]
     },
     "execution_count": 4,
     "metadata": {},
     "output_type": "execute_result"
    }
   ],
   "source": [
    "baseline=train.tax_value.mean()\n",
    "baseline"
   ]
  },
  {
   "cell_type": "code",
   "execution_count": 5,
   "metadata": {},
   "outputs": [],
   "source": [
    "from sklearn.linear_model import LinearRegression"
   ]
  },
  {
   "cell_type": "code",
   "execution_count": 6,
   "metadata": {},
   "outputs": [],
   "source": [
    "#create the model object\n",
    "lm=LinearRegression()\n",
    "\n",
    "#fit the model to my train data\n",
    "lm.fit(train[['area']],train.tax_value)\n",
    "\n",
    "#make prediction and when it does put it out in a numpy array save into a df\n",
    "train['yhat'] = lm.predict(train[['area']])"
   ]
  },
  {
   "cell_type": "markdown",
   "metadata": {},
   "source": [
    "# 3. Plot the residuals for the linear regression model that you made."
   ]
  },
  {
   "cell_type": "code",
   "execution_count": 7,
   "metadata": {},
   "outputs": [],
   "source": [
    "# calculating the residual (diference) between predictions actual values\n",
    "train['residual']=train.tax_value - train.yhat"
   ]
  },
  {
   "cell_type": "code",
   "execution_count": 8,
   "metadata": {},
   "outputs": [
    {
     "data": {
      "text/html": [
       "<div>\n",
       "<style scoped>\n",
       "    .dataframe tbody tr th:only-of-type {\n",
       "        vertical-align: middle;\n",
       "    }\n",
       "\n",
       "    .dataframe tbody tr th {\n",
       "        vertical-align: top;\n",
       "    }\n",
       "\n",
       "    .dataframe thead th {\n",
       "        text-align: right;\n",
       "    }\n",
       "</style>\n",
       "<table border=\"1\" class=\"dataframe\">\n",
       "  <thead>\n",
       "    <tr style=\"text-align: right;\">\n",
       "      <th></th>\n",
       "      <th>bedrooms</th>\n",
       "      <th>bathrooms</th>\n",
       "      <th>area</th>\n",
       "      <th>tax_value</th>\n",
       "      <th>year_built</th>\n",
       "      <th>taxamount</th>\n",
       "      <th>fips</th>\n",
       "      <th>yhat</th>\n",
       "      <th>residual</th>\n",
       "    </tr>\n",
       "  </thead>\n",
       "  <tbody>\n",
       "    <tr>\n",
       "      <th>10057</th>\n",
       "      <td>4.0</td>\n",
       "      <td>2.0</td>\n",
       "      <td>1561.0</td>\n",
       "      <td>248240.0</td>\n",
       "      <td>1973.0</td>\n",
       "      <td>2504.40</td>\n",
       "      <td>6059.0</td>\n",
       "      <td>314131.125460</td>\n",
       "      <td>-65891.125460</td>\n",
       "    </tr>\n",
       "    <tr>\n",
       "      <th>2004970</th>\n",
       "      <td>3.0</td>\n",
       "      <td>2.0</td>\n",
       "      <td>1770.0</td>\n",
       "      <td>88390.0</td>\n",
       "      <td>1960.0</td>\n",
       "      <td>1671.93</td>\n",
       "      <td>6037.0</td>\n",
       "      <td>345309.674341</td>\n",
       "      <td>-256919.674341</td>\n",
       "    </tr>\n",
       "  </tbody>\n",
       "</table>\n",
       "</div>"
      ],
      "text/plain": [
       "         bedrooms  bathrooms    area  tax_value  year_built  taxamount  \\\n",
       "10057         4.0        2.0  1561.0   248240.0      1973.0    2504.40   \n",
       "2004970       3.0        2.0  1770.0    88390.0      1960.0    1671.93   \n",
       "\n",
       "           fips           yhat       residual  \n",
       "10057    6059.0  314131.125460  -65891.125460  \n",
       "2004970  6037.0  345309.674341 -256919.674341  "
      ]
     },
     "execution_count": 8,
     "metadata": {},
     "output_type": "execute_result"
    }
   ],
   "source": [
    "train.head(2)"
   ]
  },
  {
   "cell_type": "code",
   "execution_count": 32,
   "metadata": {},
   "outputs": [
    {
     "data": {
      "text/plain": [
       "<matplotlib.lines.Line2D at 0x15f916ca0>"
      ]
     },
     "execution_count": 32,
     "metadata": {},
     "output_type": "execute_result"
    },
    {
     "data": {
      "image/png": "[encoded data removed]",
      "text/plain": [
       "<Figure size 432x288 with 1 Axes>"
      ]
     },
     "metadata": {
      "needs_background": "light"
     },
     "output_type": "display_data"
    }
   ],
   "source": [
    "sns.scatterplot(data=train,x='tax_value',y='residual')\n",
    "plt.axhline(baseline,color='red')"
   ]
  },
  {
   "cell_type": "code",
   "execution_count": 10,
   "metadata": {},
   "outputs": [],
   "source": [
    "train['baseline']= baseline"
   ]
  },
  {
   "cell_type": "code",
   "execution_count": 11,
   "metadata": {},
   "outputs": [],
   "source": [
    "train['baseline_residual']= train.tax_value-train.baseline"
   ]
  },
  {
   "cell_type": "markdown",
   "metadata": {},
   "source": [
    "# 4. Calculate the sum of squared errors, explained sum of squares, total sum of squares, mean squared error, and root mean squared error for your model"
   ]
  },
  {
   "cell_type": "code",
   "execution_count": 12,
   "metadata": {},
   "outputs": [],
   "source": [
    "train['baseline_residual_2']= train.baseline_residual**2\n",
    "train['residual_2']=train.residual**2"
   ]
  },
  {
   "cell_type": "code",
   "execution_count": 14,
   "metadata": {},
   "outputs": [
    {
     "data": {
      "text/html": [
       "<div>\n",
       "<style scoped>\n",
       "    .dataframe tbody tr th:only-of-type {\n",
       "        vertical-align: middle;\n",
       "    }\n",
       "\n",
       "    .dataframe tbody tr th {\n",
       "        vertical-align: top;\n",
       "    }\n",
       "\n",
       "    .dataframe thead th {\n",
       "        text-align: right;\n",
       "    }\n",
       "</style>\n",
       "<table border=\"1\" class=\"dataframe\">\n",
       "  <thead>\n",
       "    <tr style=\"text-align: right;\">\n",
       "      <th></th>\n",
       "      <th>bedrooms</th>\n",
       "      <th>bathrooms</th>\n",
       "      <th>area</th>\n",
       "      <th>tax_value</th>\n",
       "      <th>year_built</th>\n",
       "      <th>taxamount</th>\n",
       "      <th>fips</th>\n",
       "      <th>yhat</th>\n",
       "      <th>residual</th>\n",
       "      <th>baseline</th>\n",
       "      <th>baseline_residual</th>\n",
       "      <th>baseline_residual_2</th>\n",
       "      <th>residual_2</th>\n",
       "    </tr>\n",
       "  </thead>\n",
       "  <tbody>\n",
       "    <tr>\n",
       "      <th>10057</th>\n",
       "      <td>4.0</td>\n",
       "      <td>2.0</td>\n",
       "      <td>1561.0</td>\n",
       "      <td>248240.0</td>\n",
       "      <td>1973.0</td>\n",
       "      <td>2504.40</td>\n",
       "      <td>6059.0</td>\n",
       "      <td>314131.125460</td>\n",
       "      <td>-65891.125460</td>\n",
       "      <td>327962.928757</td>\n",
       "      <td>-79722.928757</td>\n",
       "      <td>6.355745e+09</td>\n",
       "      <td>4.341640e+09</td>\n",
       "    </tr>\n",
       "    <tr>\n",
       "      <th>2004970</th>\n",
       "      <td>3.0</td>\n",
       "      <td>2.0</td>\n",
       "      <td>1770.0</td>\n",
       "      <td>88390.0</td>\n",
       "      <td>1960.0</td>\n",
       "      <td>1671.93</td>\n",
       "      <td>6037.0</td>\n",
       "      <td>345309.674341</td>\n",
       "      <td>-256919.674341</td>\n",
       "      <td>327962.928757</td>\n",
       "      <td>-239572.928757</td>\n",
       "      <td>5.739519e+10</td>\n",
       "      <td>6.600772e+10</td>\n",
       "    </tr>\n",
       "  </tbody>\n",
       "</table>\n",
       "</div>"
      ],
      "text/plain": [
       "         bedrooms  bathrooms    area  tax_value  year_built  taxamount  \\\n",
       "10057         4.0        2.0  1561.0   248240.0      1973.0    2504.40   \n",
       "2004970       3.0        2.0  1770.0    88390.0      1960.0    1671.93   \n",
       "\n",
       "           fips           yhat       residual       baseline  \\\n",
       "10057    6059.0  314131.125460  -65891.125460  327962.928757   \n",
       "2004970  6037.0  345309.674341 -256919.674341  327962.928757   \n",
       "\n",
       "         baseline_residual  baseline_residual_2    residual_2  \n",
       "10057        -79722.928757         6.355745e+09  4.341640e+09  \n",
       "2004970     -239572.928757         5.739519e+10  6.600772e+10  "
      ]
     },
     "execution_count": 14,
     "metadata": {},
     "output_type": "execute_result"
    }
   ],
   "source": [
    "train.head(2)"
   ]
  },
  {
   "cell_type": "code",
   "execution_count": 15,
   "metadata": {},
   "outputs": [],
   "source": [
    "#calculating sum of squared errors (SSE) by adding up that column\n",
    "SSE_baseline=train.baseline_residual_2.sum()\n",
    "\n",
    "#Doing the same thing for the predicted values\n",
    "SSE=train.residual_2.sum()"
   ]
  },
  {
   "cell_type": "code",
   "execution_count": 16,
   "metadata": {},
   "outputs": [
    {
     "name": "stdout",
     "output_type": "stream",
     "text": [
      "SSE Baseline = 41138637916742832.0\n",
      "SSE = 33777310861904692.0\n"
     ]
    }
   ],
   "source": [
    "#comparing the baseline sume of squared errors to the predicted value sum of squared errors\n",
    "#we want the minimal SSE value which is the linear regression model i built\n",
    "print(\"SSE Baseline =\", \"{:.1f}\".format(SSE_baseline))\n",
    "print('SSE =', \"{:.1f}\".format(SSE))"
   ]
  },
  {
   "cell_type": "code",
   "execution_count": 18,
   "metadata": {},
   "outputs": [
    {
     "name": "stdout",
     "output_type": "stream",
     "text": [
      "39596016702.04775 32510725506.882072\n"
     ]
    }
   ],
   "source": [
    "# to calculate the Mean of squared errors divide by the number of occurances/points aka the length\n",
    "MSE_baseline=SSE_baseline/len(train)\n",
    "\n",
    "MSE=SSE/len(train)\n",
    "\n",
    "print(MSE_baseline, MSE)"
   ]
  },
  {
   "cell_type": "code",
   "execution_count": 19,
   "metadata": {},
   "outputs": [
    {
     "name": "stdout",
     "output_type": "stream",
     "text": [
      "198987.47875695032 180307.30852320456\n"
     ]
    }
   ],
   "source": [
    "# calculating the root mean squared error (RMSE) I simply get the sqaure root of the mean of squared errors\n",
    "\n",
    "RMSE_baseline=MSE_baseline**.5\n",
    "\n",
    "RMSE=MSE**.5\n",
    "\n",
    "print(RMSE_baseline,RMSE)"
   ]
  },
  {
   "cell_type": "code",
   "execution_count": 20,
   "metadata": {},
   "outputs": [],
   "source": [
    "# Total sum of squares is the same as sum of squared errors baseline\n",
    "TSS= SSE_baseline"
   ]
  },
  {
   "cell_type": "code",
   "execution_count": 21,
   "metadata": {},
   "outputs": [
    {
     "data": {
      "text/plain": [
       "3.3777310861904692e+16"
      ]
     },
     "execution_count": 21,
     "metadata": {},
     "output_type": "execute_result"
    }
   ],
   "source": [
    "# sum of squared error for the regression line (unexplained error)\n",
    "SSE"
   ]
  },
  {
   "cell_type": "code",
   "execution_count": 22,
   "metadata": {},
   "outputs": [
    {
     "data": {
      "text/plain": [
       "7361327054838140.0"
      ]
     },
     "execution_count": 22,
     "metadata": {},
     "output_type": "execute_result"
    }
   ],
   "source": [
    "# calculating explained sum of squares (ESS) is the same as saying  TSS minus SSE\n",
    "\n",
    "ESS=TSS-SSE\n",
    "ESS"
   ]
  },
  {
   "cell_type": "markdown",
   "metadata": {},
   "source": [
    "# 5. Calculate the sum of squared errors, mean squared error, and root mean squared error for the baseline model \n",
    "# (i.e. a model that always predicts the average taxvaluedollarcnt amount).\n"
   ]
  },
  {
   "cell_type": "code",
   "execution_count": 24,
   "metadata": {},
   "outputs": [],
   "source": [
    "#import sklearn mean_square_error\n",
    "from sklearn.metrics import mean_squared_error\n",
    "\n",
    "MSE2_baseline=mean_squared_error(train.tax_value,train.baseline)\n",
    "\n",
    "MSE2=mean_squared_error(train.tax_value, train.yhat)"
   ]
  },
  {
   "cell_type": "code",
   "execution_count": 25,
   "metadata": {},
   "outputs": [
    {
     "name": "stdout",
     "output_type": "stream",
     "text": [
      "MSE baseline: 39596016702.04775\n",
      "MSE: 32510725506.882072\n"
     ]
    }
   ],
   "source": [
    "print(\"MSE baseline:\", MSE2_baseline) \n",
    "print(\"MSE:\", MSE2) "
   ]
  },
  {
   "cell_type": "markdown",
   "metadata": {},
   "source": [
    "# Write python code that compares the sum of squared errors for your model against the sum of squared errors for the baseline model and outputs whether or not your model performs better than the baseline model."
   ]
  },
  {
   "cell_type": "code",
   "execution_count": 26,
   "metadata": {},
   "outputs": [],
   "source": [
    "def model_or_base(SSE,SSE_baseline):\n",
    "    if SSE < SSE_baseline:\n",
    "        print('my model outperforms baseline')\n",
    "    else:\n",
    "         print('my model did not perform better than baseline')"
   ]
  },
  {
   "cell_type": "code",
   "execution_count": 27,
   "metadata": {},
   "outputs": [
    {
     "name": "stdout",
     "output_type": "stream",
     "text": [
      "my model outperforms baseline\n"
     ]
    }
   ],
   "source": [
    "model_or_base(SSE,SSE_baseline)"
   ]
  },
  {
   "cell_type": "markdown",
   "metadata": {},
   "source": [
    "# 7. What is the amount of variance explained in your model?"
   ]
  },
  {
   "cell_type": "code",
   "execution_count": 28,
   "metadata": {},
   "outputs": [
    {
     "data": {
      "text/plain": [
       "0.17893949405267462"
      ]
     },
     "execution_count": 28,
     "metadata": {},
     "output_type": "execute_result"
    }
   ],
   "source": [
    "#r2_score same as r2 and also known as explained variance score\n",
    "\n",
    "#import r2_score from sklearn\n",
    "from sklearn.metrics import r2_score\n",
    "\n",
    "r2_score(train.tax_value,train.yhat)"
   ]
  },
  {
   "cell_type": "markdown",
   "metadata": {},
   "source": [
    "# Is your model better than the baseline model?"
   ]
  },
  {
   "cell_type": "code",
   "execution_count": 29,
   "metadata": {},
   "outputs": [],
   "source": [
    "#yes my model is better than baseline"
   ]
  },
  {
   "cell_type": "markdown",
   "metadata": {},
   "source": [
    "# 9.Create a file named evaluate.py that contains the following functions.\n",
    "\n",
    "### plot_residuals(y, yhat): creates a residual plot\n",
    "### regression_errors(y, yhat): returns the following values:\n",
    "   ### sum of squared errors (SSE)\n",
    "   ### explained sum of squares (ESS)\n",
    "   ### total sum of squares (TSS)\n",
    "   ### mean squared error (MSE)\n",
    "   ### root mean squared error (RMSE)\n",
    "### baseline_mean_errors(y): computes the SSE, MSE, and RMSE for the baseline model\n",
    "### better_than_baseline(y, yhat): returns true if your model performs better than the baseline, otherwise false"
   ]
  },
  {
   "cell_type": "code",
   "execution_count": 30,
   "metadata": {},
   "outputs": [],
   "source": [
    "def plot_residuals(y,yhat):\n",
    "    plt.scatter(y,yhat)\n",
    "    plt.show()\n",
    "\n"
   ]
  },
  {
   "cell_type": "code",
   "execution_count": 31,
   "metadata": {},
   "outputs": [
    {
     "data": {
      "image/png": "[encoded data removed]",
      "text/plain": [
       "<Figure size 432x288 with 1 Axes>"
      ]
     },
     "metadata": {
      "needs_background": "light"
     },
     "output_type": "display_data"
    }
   ],
   "source": [
    "plot_residuals(train.tax_value,train.yhat)"
   ]
  },
  {
   "cell_type": "code",
   "execution_count": null,
   "metadata": {},
   "outputs": [],
   "source": [
    "d"
   ]
  }
 ],
 "metadata": {
  "kernelspec": {
   "display_name": "Python 3.9.12 ('base')",
   "language": "python",
   "name": "python3"
  },
  "language_info": {
   "codemirror_mode": {
    "name": "ipython",
    "version": 3
   },
   "file_extension": ".py",
   "mimetype": "text/x-python",
   "name": "python",
   "nbconvert_exporter": "python",
   "pygments_lexer": "ipython3",
   "version": "3.9.12"
  },
  "orig_nbformat": 4,
  "vscode": {
   "interpreter": {
    "hash": "38cca0c38332a56087b24af0bc80247f4fced29cb4f7f437d91dc159adec9c4e"
   }
  }
 },
 "nbformat": 4,
 "nbformat_minor": 2
}
